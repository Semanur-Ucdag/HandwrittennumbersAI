{
  "nbformat": 4,
  "nbformat_minor": 0,
  "metadata": {
    "colab": {
      "provenance": [],
      "authorship_tag": "ABX9TyPnYG3e4cSnTRlu6J5ZnxAJ",
      "include_colab_link": true
    },
    "kernelspec": {
      "name": "python3",
      "display_name": "Python 3"
    },
    "language_info": {
      "name": "python"
    }
  },
  "cells": [
    {
      "cell_type": "markdown",
      "metadata": {
        "id": "view-in-github",
        "colab_type": "text"
      },
      "source": [
        "<a href=\"https://colab.research.google.com/github/Semanur-Ucdag/HandwrittennumbersAI/blob/main/Untitled1.ipynb\" target=\"_parent\"><img src=\"https://colab.research.google.com/assets/colab-badge.svg\" alt=\"Open In Colab\"/></a>"
      ]
    },
    {
      "cell_type": "code",
      "source": [
        "#import the libaries\n",
        "import torch, pdb\n",
        "from torch.utils.data import DataLoader\n",
        "from torch import nn\n",
        "from torchvision import transforms\n",
        "from torchvision.datasets import MNIST\n",
        "from torchvision.utils import make_grid\n",
        "from tqdm.auto import tqdm\n",
        "import matplotlib.pyplot as plt\n"
      ],
      "metadata": {
        "id": "WIUHFN8wYwyH"
      },
      "execution_count": null,
      "outputs": []
    },
    {
      "cell_type": "code",
      "source": [
        "#visualization function\n",
        "def show(tensor, ch=1, size=(28,28), num =16):\n",
        "  data = tensor.detach().cpu().view(-1,ch,*size) #128 x 1 x 28 x 28\n",
        "  grid = make_grid(data[:num], nrow = 4).permute(1,2,0) #1 x 28 x 28 = 28 x 28 x 1\n",
        "  plt.imshow(grid)\n",
        "  plt.show()\n"
      ],
      "metadata": {
        "id": "4ONbsYEHaHsy"
      },
      "execution_count": null,
      "outputs": []
    },
    {
      "cell_type": "code",
      "source": [
        "#setup of the main parameters and hyperparameters\n",
        "epochs = 500\n",
        "cur_step= 0\n",
        "info_step =300\n",
        "mean_gen_loss=0\n",
        "mean_disc_loss=0\n",
        "\n",
        "z_dim=64\n",
        "lr=0.00001\n",
        "loss_func = nn.BCEWithLogitsLoss()\n",
        "\n",
        "bs = 128\n",
        "device = torch.device(\"cuda\" if torch.cuda.is_available() else \"cpu\") #'cuda'\n",
        "\n",
        "dataloader = DataLoader(MNIST('.', download=True, transform = transforms.ToTensor()), shuffle=True, batch_size =bs)\n",
        "\n",
        "#number of steps = 60000 / 128 = 468.75\n",
        "\n"
      ],
      "metadata": {
        "colab": {
          "base_uri": "https://localhost:8080/"
        },
        "id": "VcGYC0UsZz0I",
        "outputId": "4ac310d5-0c60-41ab-8cc3-1492bf627644"
      },
      "execution_count": null,
      "outputs": [
        {
          "output_type": "stream",
          "name": "stdout",
          "text": [
            "Downloading http://yann.lecun.com/exdb/mnist/train-images-idx3-ubyte.gz\n",
            "Failed to download (trying next):\n",
            "<urlopen error [SSL: CERTIFICATE_VERIFY_FAILED] certificate verify failed: certificate has expired (_ssl.c:1007)>\n",
            "\n",
            "Downloading https://ossci-datasets.s3.amazonaws.com/mnist/train-images-idx3-ubyte.gz\n",
            "Downloading https://ossci-datasets.s3.amazonaws.com/mnist/train-images-idx3-ubyte.gz to ./MNIST/raw/train-images-idx3-ubyte.gz\n"
          ]
        },
        {
          "output_type": "stream",
          "name": "stderr",
          "text": [
            "100%|██████████| 9.91M/9.91M [00:00<00:00, 55.0MB/s]\n"
          ]
        },
        {
          "output_type": "stream",
          "name": "stdout",
          "text": [
            "Extracting ./MNIST/raw/train-images-idx3-ubyte.gz to ./MNIST/raw\n",
            "\n",
            "Downloading http://yann.lecun.com/exdb/mnist/train-labels-idx1-ubyte.gz\n",
            "Failed to download (trying next):\n",
            "<urlopen error [SSL: CERTIFICATE_VERIFY_FAILED] certificate verify failed: certificate has expired (_ssl.c:1007)>\n",
            "\n",
            "Downloading https://ossci-datasets.s3.amazonaws.com/mnist/train-labels-idx1-ubyte.gz\n",
            "Downloading https://ossci-datasets.s3.amazonaws.com/mnist/train-labels-idx1-ubyte.gz to ./MNIST/raw/train-labels-idx1-ubyte.gz\n"
          ]
        },
        {
          "output_type": "stream",
          "name": "stderr",
          "text": [
            "100%|██████████| 28.9k/28.9k [00:00<00:00, 1.65MB/s]"
          ]
        },
        {
          "output_type": "stream",
          "name": "stdout",
          "text": [
            "Extracting ./MNIST/raw/train-labels-idx1-ubyte.gz to ./MNIST/raw\n",
            "\n",
            "Downloading http://yann.lecun.com/exdb/mnist/t10k-images-idx3-ubyte.gz\n"
          ]
        },
        {
          "output_type": "stream",
          "name": "stderr",
          "text": [
            "\n"
          ]
        },
        {
          "output_type": "stream",
          "name": "stdout",
          "text": [
            "Failed to download (trying next):\n",
            "<urlopen error [SSL: CERTIFICATE_VERIFY_FAILED] certificate verify failed: certificate has expired (_ssl.c:1007)>\n",
            "\n",
            "Downloading https://ossci-datasets.s3.amazonaws.com/mnist/t10k-images-idx3-ubyte.gz\n",
            "Downloading https://ossci-datasets.s3.amazonaws.com/mnist/t10k-images-idx3-ubyte.gz to ./MNIST/raw/t10k-images-idx3-ubyte.gz\n"
          ]
        },
        {
          "output_type": "stream",
          "name": "stderr",
          "text": [
            "100%|██████████| 1.65M/1.65M [00:00<00:00, 13.5MB/s]\n"
          ]
        },
        {
          "output_type": "stream",
          "name": "stdout",
          "text": [
            "Extracting ./MNIST/raw/t10k-images-idx3-ubyte.gz to ./MNIST/raw\n",
            "\n",
            "Downloading http://yann.lecun.com/exdb/mnist/t10k-labels-idx1-ubyte.gz\n",
            "Failed to download (trying next):\n",
            "<urlopen error [SSL: CERTIFICATE_VERIFY_FAILED] certificate verify failed: certificate has expired (_ssl.c:1007)>\n",
            "\n",
            "Downloading https://ossci-datasets.s3.amazonaws.com/mnist/t10k-labels-idx1-ubyte.gz\n",
            "Downloading https://ossci-datasets.s3.amazonaws.com/mnist/t10k-labels-idx1-ubyte.gz to ./MNIST/raw/t10k-labels-idx1-ubyte.gz\n"
          ]
        },
        {
          "output_type": "stream",
          "name": "stderr",
          "text": [
            "100%|██████████| 4.54k/4.54k [00:00<00:00, 4.29MB/s]"
          ]
        },
        {
          "output_type": "stream",
          "name": "stdout",
          "text": [
            "Extracting ./MNIST/raw/t10k-labels-idx1-ubyte.gz to ./MNIST/raw\n",
            "\n"
          ]
        },
        {
          "output_type": "stream",
          "name": "stderr",
          "text": [
            "\n"
          ]
        }
      ]
    },
    {
      "cell_type": "code",
      "source": [
        "# Generator\n",
        "def genBlock(inp, out):\n",
        "    return nn.Sequential(\n",
        "        nn.Linear(inp, out),\n",
        "        nn.BatchNorm1d(out),\n",
        "        nn.ReLU(inplace=True)\n",
        "    )\n",
        "\n",
        "class Generator(nn.Module):\n",
        "    def __init__(self, z_dim=64, i_dim=784, h_dim=128):\n",
        "        super().__init__()\n",
        "        self.gen = nn.Sequential(\n",
        "            genBlock(z_dim, h_dim), # 64 -> 128\n",
        "            genBlock(h_dim, h_dim * 2), # 128 -> 256\n",
        "            genBlock(h_dim * 2, h_dim * 4), # 256 -> 512\n",
        "            genBlock(h_dim * 4, h_dim * 8), # 512 -> 1024\n",
        "            nn.Linear(h_dim * 8, i_dim), # 1024 -> 784 (28x28)\n",
        "            nn.Sigmoid(),  # Son katman için aktivasyon fonksiyonu\n",
        "        )\n",
        "\n",
        "    def forward(self, noise):\n",
        "        return self.gen(noise)\n",
        "\n",
        "def gen_noise(number, z_dim):\n",
        "    return torch.randn(number, z_dim).to(device)\n",
        "\n",
        "# Discriminator\n",
        "def disBlock(inp, out):\n",
        "    return nn.Sequential(\n",
        "        nn.Linear(inp, out),\n",
        "        nn.LeakyReLU(0.2)\n",
        "    )\n",
        "\n",
        "class Discriminator(nn.Module):\n",
        "    def __init__(self, i_dim=784, h_dim=256):\n",
        "        super().__init__()\n",
        "        self.disc = nn.Sequential(\n",
        "            disBlock(i_dim, h_dim * 4), # 784 -> 1024\n",
        "            disBlock(h_dim * 4, h_dim * 2), # 1024 -> 512\n",
        "            disBlock(h_dim * 2, h_dim), # 512 -> 256\n",
        "            nn.Linear(h_dim, 1) # 256 -> 1 (output)\n",
        "        )\n",
        "\n",
        "    def forward(self, image):\n",
        "        return self.disc(image)"
      ],
      "metadata": {
        "id": "tInMCVJ-jha1"
      },
      "execution_count": null,
      "outputs": []
    },
    {
      "cell_type": "code",
      "source": [
        "gen = Generator(z_dim).to(device)\n",
        "gen_opt = torch.optim.Adam(gen.parameters(), lr=lr)\n",
        "disc = Discriminator().to(device)\n",
        "disc_opt = torch.optim.Adam(disc.parameters(), lr=lr)"
      ],
      "metadata": {
        "id": "bvV5nBP9x3ll"
      },
      "execution_count": null,
      "outputs": []
    },
    {
      "cell_type": "code",
      "source": [
        "gen"
      ],
      "metadata": {
        "colab": {
          "base_uri": "https://localhost:8080/"
        },
        "id": "5EqzwMhU9TuZ",
        "outputId": "8d234231-1c3d-404a-8094-47207e0a4cf9"
      },
      "execution_count": null,
      "outputs": [
        {
          "output_type": "execute_result",
          "data": {
            "text/plain": [
              "Generator(\n",
              "  (gen): Sequential(\n",
              "    (0): Sequential(\n",
              "      (0): Linear(in_features=64, out_features=128, bias=True)\n",
              "      (1): BatchNorm1d(128, eps=1e-05, momentum=0.1, affine=True, track_running_stats=True)\n",
              "      (2): ReLU(inplace=True)\n",
              "    )\n",
              "    (1): Sequential(\n",
              "      (0): Linear(in_features=128, out_features=256, bias=True)\n",
              "      (1): BatchNorm1d(256, eps=1e-05, momentum=0.1, affine=True, track_running_stats=True)\n",
              "      (2): ReLU(inplace=True)\n",
              "    )\n",
              "    (2): Sequential(\n",
              "      (0): Linear(in_features=256, out_features=512, bias=True)\n",
              "      (1): BatchNorm1d(512, eps=1e-05, momentum=0.1, affine=True, track_running_stats=True)\n",
              "      (2): ReLU(inplace=True)\n",
              "    )\n",
              "    (3): Sequential(\n",
              "      (0): Linear(in_features=512, out_features=1024, bias=True)\n",
              "      (1): BatchNorm1d(1024, eps=1e-05, momentum=0.1, affine=True, track_running_stats=True)\n",
              "      (2): ReLU(inplace=True)\n",
              "    )\n",
              "    (4): Linear(in_features=1024, out_features=784, bias=True)\n",
              "    (5): Sigmoid()\n",
              "  )\n",
              ")"
            ]
          },
          "metadata": {},
          "execution_count": 14
        }
      ]
    },
    {
      "cell_type": "code",
      "source": [
        "disc"
      ],
      "metadata": {
        "colab": {
          "base_uri": "https://localhost:8080/"
        },
        "id": "BOwkz4nV_XeX",
        "outputId": "d4fa7de7-5aa9-4d44-8ed5-6d27ad9e3b81"
      },
      "execution_count": null,
      "outputs": [
        {
          "output_type": "execute_result",
          "data": {
            "text/plain": [
              "Discriminator(\n",
              "  (disc): Sequential(\n",
              "    (0): Sequential(\n",
              "      (0): Linear(in_features=784, out_features=1024, bias=True)\n",
              "      (1): LeakyReLU(negative_slope=0.2)\n",
              "    )\n",
              "    (1): Sequential(\n",
              "      (0): Linear(in_features=1024, out_features=512, bias=True)\n",
              "      (1): LeakyReLU(negative_slope=0.2)\n",
              "    )\n",
              "    (2): Sequential(\n",
              "      (0): Linear(in_features=512, out_features=256, bias=True)\n",
              "      (1): LeakyReLU(negative_slope=0.2)\n",
              "    )\n",
              "    (3): Linear(in_features=256, out_features=1, bias=True)\n",
              "  )\n",
              ")"
            ]
          },
          "metadata": {},
          "execution_count": 15
        }
      ]
    },
    {
      "cell_type": "code",
      "source": [
        "x,y=next(iter(dataloader))\n",
        "print(x.shape, y.shape)\n",
        "print(y[:10])\n",
        "\n",
        "noise = gen_noise (bs, z_dim)\n",
        "fake = gen(noise)\n",
        "show(fake)\n",
        "\n"
      ],
      "metadata": {
        "colab": {
          "base_uri": "https://localhost:8080/",
          "height": 469
        },
        "id": "slGpKaY2Ad4Q",
        "outputId": "0581eef6-9f96-480d-edb6-5855b2035749"
      },
      "execution_count": null,
      "outputs": [
        {
          "output_type": "stream",
          "name": "stdout",
          "text": [
            "torch.Size([128, 1, 28, 28]) torch.Size([128])\n",
            "tensor([4, 1, 9, 9, 9, 5, 6, 1, 4, 4])\n"
          ]
        },
        {
          "output_type": "display_data",
          "data": {
            "text/plain": [
              "<Figure size 640x480 with 1 Axes>"
            ],
            "image/png": "[encoded data removed]"
          },
          "metadata": {}
        }
      ]
    },
    {
      "cell_type": "code",
      "source": [
        "#calculating the loss\n",
        "\n",
        "#generator loss\n",
        "\n",
        "def calc_gen_loss(loss_func, gen, disc, number, z_dim):\n",
        "  noise = gen_noise(number, z_dim)\n",
        "  fake = gen(noise)\n",
        "  pred = disc(fake)\n",
        "  targets=torch.ones_like(pred)\n",
        "  gen_loss=loss_func(pred,targets)\n",
        "\n",
        "  return gen_loss\n",
        "\n",
        "def calc_disc_loss(loss_func,  gen, disc, number, real, z_dim):\n",
        "  noise = gen_noise(number, z_dim)\n",
        "  fake = gen(noise)\n",
        "  disc_fake = disc(fake.detach())\n",
        "  disc_fake_targets=torch.zeros_like(disc_fake)\n",
        "  disc_fake_loss=loss_func(disc_fake, disc_fake_targets)\n",
        "\n",
        "\n",
        "  disc_real = disc(real)\n",
        "  disc_real_targets=torch.ones_like(disc_real)\n",
        "  disc_real_loss=loss_func(disc_real, disc_real_targets)\n",
        "\n",
        "  disc_loss=(disc_fake_loss+disc_real_loss)/2\n",
        "\n",
        "  return disc_loss"
      ],
      "metadata": {
        "id": "sC799ToaBzdu"
      },
      "execution_count": null,
      "outputs": []
    },
    {
      "cell_type": "code",
      "source": [
        "exit"
      ],
      "metadata": {
        "id": "mbD-HCyRZihP"
      },
      "execution_count": null,
      "outputs": []
    }
  ]
}